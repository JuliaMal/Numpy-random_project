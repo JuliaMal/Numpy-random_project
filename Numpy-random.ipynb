{
 "cells": [
  {
   "cell_type": "markdown",
   "metadata": {},
   "source": [
    "# Project 1\n",
    "## __The numpy.random package__\n",
    "---"
   ]
  },
  {
   "cell_type": "markdown",
   "metadata": {},
   "source": [
    "### __Content:__\n",
    "    1. numpy.random package overview\n",
    "    2. Simple random data\n",
    "    3. Permutations\n",
    "    4. Distributions\n",
    "    5. Seeds\n",
    "    6. References\n",
    "---"
   ]
  },
  {
   "cell_type": "markdown",
   "metadata": {},
   "source": [
    "### <font color=green>__1. *numpy.random* package overview__</font>"
   ]
  },
  {
   "cell_type": "markdown",
   "metadata": {},
   "source": [
    "An important part of any simulation is the ability to generate random numbers. For this purpose, NumPy provides various routines in the submodule `random`. Most random data generated with Python is not fully random in the scientific sense of the word. *numpy.random* uses a particular algorithm, called the Mersenne Twister, to generate pseudo-random numbers. \n",
    "\n",
    "The numbers are pseudo-random in the sense that they are generated deterministically from a seed number, but are distributed in what has statistical similarities to random fashion. "
   ]
  },
  {
   "cell_type": "markdown",
   "metadata": {},
   "source": [
    "### <font color=green>__2. Simple random data__</font>"
   ]
  },
  {
   "cell_type": "markdown",
   "metadata": {},
   "source": [
    "__The syntax of numpy.random.rand__\n",
    "\n",
    "*numpy.random.rand(d0, d1, d2, ..., dn)*\n",
    "\n",
    "*d0, d1, ..., dn* - the dimentions of the return array, should be all positive. If no argument is given a single Python float is returned.\n",
    "\n",
    "\n",
    "The *numpy.random.rand()* creates an array of the given shape and populate it with random samples from a uniform distribution over [0, 1)."
   ]
  },
  {
   "cell_type": "code",
   "execution_count": null,
   "metadata": {},
   "outputs": [],
   "source": []
  },
  {
   "cell_type": "code",
   "execution_count": null,
   "metadata": {},
   "outputs": [],
   "source": []
  },
  {
   "cell_type": "code",
   "execution_count": null,
   "metadata": {},
   "outputs": [],
   "source": []
  },
  {
   "cell_type": "markdown",
   "metadata": {},
   "source": [
    "__The syntax of numpy.random.randn__\n",
    "\n",
    "*numpy.random.randn(d0, d1, d2, ..., dn)*\n",
    "\n",
    "*d0, d1, ..., dn* - the dimentions of the return array, should be all positive. If no argument is given a single Python float is returned.\n",
    "\n",
    "\n",
    "The *numpy.random.randn()* function creates an array of specified shape and fills it with random values as per standard normal distribution.\n",
    "\n",
    "If we provide only one number, we will get 1D array filled with random numbers, if 2 numbers - 2D array, 3 numbers - 3D array, and so on..\n",
    "Let's check this:"
   ]
  },
  {
   "cell_type": "code",
   "execution_count": 25,
   "metadata": {},
   "outputs": [],
   "source": [
    "import numpy as np\n",
    "import matplotlib.pyplot as plt"
   ]
  },
  {
   "cell_type": "code",
   "execution_count": 17,
   "metadata": {},
   "outputs": [],
   "source": [
    "randn_d1 = np.random.randn(5)\n",
    "randn_d2 = np.random.randn(5, 3)\n",
    "randn_d3 = np.random.randn(5, 3, 2)"
   ]
  },
  {
   "cell_type": "code",
   "execution_count": 19,
   "metadata": {},
   "outputs": [
    {
     "data": {
      "text/plain": [
       "array([-0.41866349,  0.44116639, -0.48401569,  0.71979765, -0.83424489])"
      ]
     },
     "execution_count": 19,
     "metadata": {},
     "output_type": "execute_result"
    }
   ],
   "source": [
    "# output of one-dimetional array with 5 random numbers\n",
    "randn_d1"
   ]
  },
  {
   "cell_type": "code",
   "execution_count": 21,
   "metadata": {},
   "outputs": [
    {
     "data": {
      "text/plain": [
       "array([[-1.41895586,  0.12367234, -0.1478727 ],\n",
       "       [-0.44777457,  0.43912927, -0.72143945],\n",
       "       [ 0.09931733, -0.92005313,  1.25246955],\n",
       "       [-0.55012758, -0.06635021, -0.96208665],\n",
       "       [-0.12420872,  0.54168293, -0.69051574]])"
      ]
     },
     "execution_count": 21,
     "metadata": {},
     "output_type": "execute_result"
    }
   ],
   "source": [
    "# output of two-dimetional array with 5 rows and 3 columns:\n",
    "randn_d2"
   ]
  },
  {
   "cell_type": "code",
   "execution_count": 22,
   "metadata": {},
   "outputs": [
    {
     "data": {
      "text/plain": [
       "array([[[-0.99384741, -0.23141196],\n",
       "        [-0.87890805,  1.49091983],\n",
       "        [ 0.88408538, -1.13460172]],\n",
       "\n",
       "       [[-0.29222633, -0.6156127 ],\n",
       "        [ 0.69786922, -1.51885994],\n",
       "        [-0.34774515, -1.54410255]],\n",
       "\n",
       "       [[ 1.00754407, -0.54460645],\n",
       "        [-0.18372825, -0.01697389],\n",
       "        [ 0.56784005,  0.16699226]],\n",
       "\n",
       "       [[ 0.26742447, -0.04160669],\n",
       "        [ 0.83430311,  1.4372895 ],\n",
       "        [-0.68367446,  0.11229822]],\n",
       "\n",
       "       [[-0.11366268, -1.05157659],\n",
       "        [ 0.86638793, -1.22977021],\n",
       "        [-0.29261418, -1.26292961]]])"
      ]
     },
     "execution_count": 22,
     "metadata": {},
     "output_type": "execute_result"
    }
   ],
   "source": [
    "# output of three-dimetional array with 5 2D arrays, each of it containing 3 rows and 2 columns:\n",
    "randn_d3"
   ]
  },
  {
   "cell_type": "markdown",
   "metadata": {},
   "source": [
    "__The syntax of numpy.random.rand__\n",
    "\n",
    "*numpy.random.rand(d0, d1, d2, ..., dn)*\n",
    "\n",
    "*d0, d1, ..., dn* - the dimentions of the return array, should be all positive. If no argument is given a single Python float is returned.\n",
    "\n",
    "\n",
    "The *numpy.random.rand()* creates an array of the given shape and populate it with random samples from a uniform distribution over [0, 1).\n",
    "\n",
    "Let's go with some examples:"
   ]
  },
  {
   "cell_type": "code",
   "execution_count": 14,
   "metadata": {},
   "outputs": [],
   "source": [
    "rand_d1 = np.random.randn(5)\n",
    "rand_d2 = np.random.randn(5, 3)\n",
    "rand_d3 = np.random.randn(5, 3, 2)"
   ]
  },
  {
   "cell_type": "code",
   "execution_count": 23,
   "metadata": {},
   "outputs": [
    {
     "data": {
      "text/plain": [
       "array([ 0.51161026,  0.06997263,  0.36440445,  1.82723929, -1.07988435])"
      ]
     },
     "execution_count": 23,
     "metadata": {},
     "output_type": "execute_result"
    }
   ],
   "source": [
    "rand_d1"
   ]
  },
  {
   "cell_type": "code",
   "execution_count": 24,
   "metadata": {},
   "outputs": [
    {
     "data": {
      "text/plain": [
       "array([[ 2.36150025, -0.41036413,  0.30377168],\n",
       "       [-1.30239021, -0.24789562, -0.22454645],\n",
       "       [-1.42635947,  0.9447342 ,  1.07729971],\n",
       "       [ 1.0770309 ,  0.65986123,  0.47232832],\n",
       "       [-1.07828835, -0.68042113,  0.53234788]])"
      ]
     },
     "execution_count": 24,
     "metadata": {},
     "output_type": "execute_result"
    }
   ],
   "source": [
    "rand_d2"
   ]
  },
  {
   "cell_type": "code",
   "execution_count": 16,
   "metadata": {},
   "outputs": [
    {
     "data": {
      "text/plain": [
       "array([[[ 7.87507209e-01, -1.64999456e+00],\n",
       "        [-1.05671487e+00,  1.72685135e+00],\n",
       "        [-1.12777562e+00,  7.57764210e-01]],\n",
       "\n",
       "       [[-6.56790484e-01, -1.33842100e-01],\n",
       "        [-7.75333613e-01,  7.41903600e-02],\n",
       "        [-7.02723176e-01, -1.51331931e+00]],\n",
       "\n",
       "       [[ 1.17067382e+00, -5.20026389e-01],\n",
       "        [-1.05808642e-02,  5.88248847e-01],\n",
       "        [ 3.20143869e-04,  7.11513039e-01]],\n",
       "\n",
       "       [[-1.10227747e+00,  4.84426543e-01],\n",
       "        [ 4.58234712e-01,  1.65759655e+00],\n",
       "        [-6.33914814e-01, -1.50303371e-01]],\n",
       "\n",
       "       [[-6.19114860e-01,  5.24883869e-01],\n",
       "        [ 7.29926739e-01, -2.27780259e+00],\n",
       "        [-1.08910780e+00,  3.53510759e-01]]])"
      ]
     },
     "execution_count": 16,
     "metadata": {},
     "output_type": "execute_result"
    }
   ],
   "source": [
    "rand_d3"
   ]
  },
  {
   "cell_type": "markdown",
   "metadata": {},
   "source": [
    "From the output of these two functions *rand()* and *randn()* hard to say what is the difference between them two. Both generate the arrays with the random numbers. \n",
    "Let's try to visualise the output of *rand()* and *randn()* functions - maybe it will provide us with the answer what is the difference between them two?\n",
    "\n",
    "We will be using the same parameters: sample size = 10000"
   ]
  },
  {
   "cell_type": "code",
   "execution_count": 30,
   "metadata": {},
   "outputs": [
    {
     "data": {
      "image/png": "[encoded data removed]",
      "text/plain": [
       "<Figure size 432x288 with 1 Axes>"
      ]
     },
     "metadata": {
      "needs_background": "light"
     },
     "output_type": "display_data"
    }
   ],
   "source": [
    "rand_f = np.random.rand(10000)\n",
    "plt.hist(rand_f)\n",
    "plt.show()"
   ]
  },
  {
   "cell_type": "code",
   "execution_count": 31,
   "metadata": {},
   "outputs": [
    {
     "data": {
      "image/png": "[encoded data removed]",
      "text/plain": [
       "<Figure size 432x288 with 1 Axes>"
      ]
     },
     "metadata": {
      "needs_background": "light"
     },
     "output_type": "display_data"
    }
   ],
   "source": [
    "randn_f = np.random.randn(10000)\n",
    "plt.hist(randn_f)\n",
    "plt.show()"
   ]
  },
  {
   "cell_type": "markdown",
   "metadata": {},
   "source": [
    "From these two plots we can clearly see what is the difference between *rand()* and *randn()* functions. *randn()* generates samples from the normal distribution, while *rand()* - from uniform."
   ]
  },
  {
   "cell_type": "markdown",
   "metadata": {},
   "source": [
    "### <font color=green>__3. Permutations__</font>"
   ]
  },
  {
   "cell_type": "markdown",
   "metadata": {},
   "source": [
    "__The syntax of numpy.random.shuffle__\n",
    "\n",
    "*numpy.random.shuffle(x)*\n",
    "\n",
    "*x* - the array or list to be shuffled.\n",
    "\n",
    "The *shuffle* function can be used to shuffle a list. The shuffle is performed in place, meaning that the list provided as an argument to the *shuffle* function is shuffled rather than a shuffled copy of the list being made and returned. This is sometimes useful if we want to sort a list in random order."
   ]
  },
  {
   "cell_type": "markdown",
   "metadata": {},
   "source": [
    "Let's go through some examples. In first example we will shuffle following 1D array:\n",
    "      \n",
    "      1 2 3 4 5 6 7 8 9"
   ]
  },
  {
   "cell_type": "code",
   "execution_count": 13,
   "metadata": {},
   "outputs": [
    {
     "data": {
      "text/plain": [
       "array([8, 7, 4, 6, 1, 2, 3, 5, 9])"
      ]
     },
     "execution_count": 13,
     "metadata": {},
     "output_type": "execute_result"
    }
   ],
   "source": [
    "x = np.array([1,2,3,4,5,6,7,8,9])\n",
    "np.random.shuffle(x)\n",
    "x"
   ]
  },
  {
   "cell_type": "markdown",
   "metadata": {},
   "source": [
    "In this example we will be shuffling a 2D array:\n",
    "\n",
    "        1 2 3\n",
    "        4 5 6\n",
    "        7 8 9"
   ]
  },
  {
   "cell_type": "code",
   "execution_count": 14,
   "metadata": {},
   "outputs": [
    {
     "data": {
      "text/plain": [
       "array([[7, 8, 9],\n",
       "       [1, 2, 3],\n",
       "       [4, 5, 6]])"
      ]
     },
     "execution_count": 14,
     "metadata": {},
     "output_type": "execute_result"
    }
   ],
   "source": [
    "x = np.array([[1,2,3],[4,5,6],[7,8,9]])\n",
    "np.random.shuffle(x)\n",
    "x"
   ]
  },
  {
   "cell_type": "markdown",
   "metadata": {},
   "source": [
    "As we can see from the output in case of 2D (or more) array, the function *shuffle* is going to permute randomly the array rows, but not the order in the row. To randomly shuffle a 2D or more) array in Python, it is necessary to transform the multi-dimensional array to a 1D array (using *ravel* function), then using shuffle and reshape the array to its original shape:"
   ]
  },
  {
   "cell_type": "code",
   "execution_count": 15,
   "metadata": {},
   "outputs": [
    {
     "data": {
      "text/plain": [
       "array([[6, 2, 9],\n",
       "       [3, 7, 8],\n",
       "       [1, 4, 5]])"
      ]
     },
     "execution_count": 15,
     "metadata": {},
     "output_type": "execute_result"
    }
   ],
   "source": [
    "x = np.array([[1,2,3],[4,5,6],[7,8,9]])\n",
    "x = x.ravel()\n",
    "np.random.shuffle(x)\n",
    "x = x.reshape(3, 3)\n",
    "x"
   ]
  },
  {
   "cell_type": "markdown",
   "metadata": {},
   "source": [
    "### <font color=green>__4. Distributions__</font>"
   ]
  },
  {
   "cell_type": "code",
   "execution_count": null,
   "metadata": {},
   "outputs": [],
   "source": []
  },
  {
   "cell_type": "code",
   "execution_count": null,
   "metadata": {},
   "outputs": [],
   "source": []
  },
  {
   "cell_type": "code",
   "execution_count": null,
   "metadata": {},
   "outputs": [],
   "source": []
  },
  {
   "cell_type": "code",
   "execution_count": null,
   "metadata": {},
   "outputs": [],
   "source": []
  },
  {
   "cell_type": "code",
   "execution_count": null,
   "metadata": {},
   "outputs": [],
   "source": []
  },
  {
   "cell_type": "code",
   "execution_count": null,
   "metadata": {},
   "outputs": [],
   "source": []
  },
  {
   "cell_type": "markdown",
   "metadata": {},
   "source": [
    "### <font color=green>__5. Seeds__</font>\n",
    "\n",
    "__The syntax of *numpy.random.seed*__\n",
    "\n",
    "*numpy.random.seed(seed_value)\n",
    "\n",
    "*seed value* - the input value that will be used to \"seed\" pseudo-random generator. The number that will be used as a *seed_value* does not really make a difference.\n",
    "Using different seeds will cause NumPy to produce different pseudo-random numbers. The output of a *numpy.random* function will depend on the seed that is used.\n",
    "\n",
    "The function *numpy.random.seed* is extremely easy to use. However, the reason that we need to use it is a little complicated. To understand why we need to use NumPy random seed, we actually need to know a little bit about pseudo-random numbers.\n",
    "\n",
    "__Pseudo-random numbers__ are computer generated numbers that appear random, but are actually predetermined.\n",
    "\n",
    "__Why we need pseudo-random numbers?__\n",
    "There’s a fundamental problem when using computers to simulate or work with random processes. Computers are completely deterministic, not random.\n",
    "\n",
    "Setting aside some rare exceptions, computers are deterministic by their very design. To quote an article at MIT’s School of Engineering “if you ask the same question you’ll get the same answer every time.” Another way of saying this is that if you give a computer a certain input, it will precisely follow instructions to produce an output. And if you later give a computer the same input, it will produce the same output. If the input is the same, then the output will be the same. - That's how computer works.\n",
    "\n",
    "Essentially, the behavior of computers is NOT random. This introduces a problem: how can you use a non-random machine to produce random numbers?\n",
    "Computers solve the problem of generating “random” numbers the same way that they solve essentially everything: with an `algorithm`. Computer scientists have created a set of algorithms for creating pseudo-random numbers, called `pseudo-random number generators`. These algorithms can be executed on a computer. As such, they are completely deterministic. However, the numbers that they produce have properties that approximate the properties of random numbers. \n",
    "\n",
    "That is to say, the numbers generated by pseudo-random number generators appear to be random. Even though the numbers they are completely determined by the algorithm, when you examine them, there is typically no discernible pattern.\n",
    "\n",
    "The *np.random.seed* function provides an input for the pseudo-random number generator in Python. Importantly, *numpy.random.seed* doesn’t exactly work all on its own.\n",
    "\n",
    "The *numpy.random.seed* function works in conjunction with other functions from NumPy. Specifically, *numpy.random.seed* works with other function from the numpy.random namespace.\n",
    "So for example, we might use *numpy.random.seed* along with *numpy.random.randint*. This will enable you to create random integers with NumPy.\n",
    "\n",
    "However, it's essential do not forget that the important thing about using a `seed` for a pseudo-random number generator is that it makes the code repeatable. If you give a pseudo-random number generator the same input, you’ll get the same output. What I mean is that if you run the algorithm with the same input, it will produce the same output. Let's test it out:"
   ]
  },
  {
   "cell_type": "markdown",
   "metadata": {},
   "source": [
    "Let's create a list of 20 pseudo-random integers between 0 and 100 using *numpy.random.randint*, with `seed` equals to 0:"
   ]
  },
  {
   "cell_type": "code",
   "execution_count": 3,
   "metadata": {},
   "outputs": [
    {
     "data": {
      "text/plain": [
       "array([44, 47, 64, 67, 67,  9, 83, 21, 36, 87, 70, 88, 88, 12, 58, 65, 39,\n",
       "       87, 46, 88])"
      ]
     },
     "execution_count": 3,
     "metadata": {},
     "output_type": "execute_result"
    }
   ],
   "source": [
    "import numpy as np\n",
    "\n",
    "np.random.seed(0)\n",
    "np.random.randint(100, size = 20)"
   ]
  },
  {
   "cell_type": "markdown",
   "metadata": {},
   "source": [
    "Based on the output array there is no pattern visible here.\n",
    "\n",
    "Let's run the same code again to test if we get the same output to prove our hypotesis that if we give a pseudo-random number generator the same input, we’ll get the same output:"
   ]
  },
  {
   "cell_type": "code",
   "execution_count": 5,
   "metadata": {},
   "outputs": [
    {
     "data": {
      "text/plain": [
       "array([44, 47, 64, 67, 67,  9, 83, 21, 36, 87, 70, 88, 88, 12, 58, 65, 39,\n",
       "       87, 46, 88])"
      ]
     },
     "execution_count": 5,
     "metadata": {},
     "output_type": "execute_result"
    }
   ],
   "source": [
    "np.random.seed(0)\n",
    "np.random.randint(100, size = 20)"
   ]
  },
  {
   "cell_type": "markdown",
   "metadata": {},
   "source": [
    "Ok. Maybe it works just for *numpy.random.randint*? Let's try to generate another random sample from an input array. For this purpose we’re going to use *numpy.random.seed* before we use *numpy.random.choice*. *numpy.random.choice* function will then create a random sample of 5 numbers from a given list of elements."
   ]
  },
  {
   "cell_type": "code",
   "execution_count": 6,
   "metadata": {},
   "outputs": [
    {
     "data": {
      "text/plain": [
       "array([40, 70,  1,  4,  4])"
      ]
     },
     "execution_count": 6,
     "metadata": {},
     "output_type": "execute_result"
    }
   ],
   "source": [
    "np.random.seed(0)\n",
    "np.random.choice(a = [1,2,3,4,5,6,7,8,9,10,20,30,40,50,60,70,80,90], size = 5)"
   ]
  },
  {
   "cell_type": "markdown",
   "metadata": {},
   "source": [
    "Now we will re-run the same code:"
   ]
  },
  {
   "cell_type": "code",
   "execution_count": 8,
   "metadata": {},
   "outputs": [
    {
     "data": {
      "text/plain": [
       "array([40, 70,  1,  4,  4])"
      ]
     },
     "execution_count": 8,
     "metadata": {},
     "output_type": "execute_result"
    }
   ],
   "source": [
    "np.random.seed(0)\n",
    "np.random.choice(a = [1,2,3,4,5,6,7,8,9,10,20,30,40,50,60,70,80,90], size = 5)"
   ]
  },
  {
   "cell_type": "markdown",
   "metadata": {},
   "source": [
    "Let's change the seed value to 5 and re-run the code:"
   ]
  },
  {
   "cell_type": "code",
   "execution_count": 9,
   "metadata": {},
   "outputs": [
    {
     "data": {
      "text/plain": [
       "array([ 4, 60, 70,  7, 80])"
      ]
     },
     "execution_count": 9,
     "metadata": {},
     "output_type": "execute_result"
    }
   ],
   "source": [
    "np.random.seed(5)\n",
    "np.random.choice(a = [1,2,3,4,5,6,7,8,9,10,20,30,40,50,60,70,80,90], size = 5)"
   ]
  },
  {
   "cell_type": "markdown",
   "metadata": {},
   "source": [
    "As we can see the output is completely different to the first one with the seed value of 0. Let's run the code one more time:"
   ]
  },
  {
   "cell_type": "code",
   "execution_count": 10,
   "metadata": {},
   "outputs": [
    {
     "data": {
      "text/plain": [
       "array([40, 70,  1,  4,  4])"
      ]
     },
     "execution_count": 10,
     "metadata": {},
     "output_type": "execute_result"
    }
   ],
   "source": [
    "np.random.seed(0)\n",
    "np.random.choice(a = [1,2,3,4,5,6,7,8,9,10,20,30,40,50,60,70,80,90], size = 5)"
   ]
  },
  {
   "cell_type": "markdown",
   "metadata": {},
   "source": [
    "We got completely the same output as before. We can repeat the code as many times as we wish, but the outcome remains the same for the same value of `seed`. \n",
    "\n",
    "<span style=\"text-decoration:underline\">__Conclusion:__</span> The “random” numbers generated by *numpy.random.seed* function are not exactly random. They look like random numbers, but are 100% determined by the input and the pseudo-random number algorithm. If you give a pseudo-random number generator the same `seed` value, you’ll get the same output. The *numpy.random.seed* function allows user to provide a `seed` value to NumPy’s random number generator."
   ]
  },
  {
   "cell_type": "code",
   "execution_count": null,
   "metadata": {},
   "outputs": [],
   "source": []
  },
  {
   "cell_type": "markdown",
   "metadata": {},
   "source": [
    "### __6. References__\n",
    "\n",
    "    1. https://docs.scipy.org/doc/numpy-1.14.0/reference/routines.random.html\n",
    "    2. https://subscription.packtpub.com/book/big_data_and_business_intelligence/9781785285110/2/ch02lvl1sec16/numpy-random-numbers\n",
    "    3. https://www.sharpsightlabs.com/blog/numpy-random-seed/\n",
    "    4. https://medium.com/ibm-data-science-experience/markdown-for-jupyter-notebooks-cheatsheet-386c05aeebed\n",
    "    5. https://realpython.com/python-random/\n",
    "    6. https://machinelearningmastery.com/how-to-generate-random-numbers-in-python/\n",
    "    "
   ]
  },
  {
   "cell_type": "code",
   "execution_count": null,
   "metadata": {},
   "outputs": [],
   "source": []
  }
 ],
 "metadata": {
  "kernelspec": {
   "display_name": "Python 3",
   "language": "python",
   "name": "python3"
  },
  "language_info": {
   "codemirror_mode": {
    "name": "ipython",
    "version": 3
   },
   "file_extension": ".py",
   "mimetype": "text/x-python",
   "name": "python",
   "nbconvert_exporter": "python",
   "pygments_lexer": "ipython3",
   "version": "3.7.3"
  }
 },
 "nbformat": 4,
 "nbformat_minor": 4
}
